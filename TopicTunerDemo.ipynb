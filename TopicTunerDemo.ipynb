{
  "nbformat": 4,
  "nbformat_minor": 0,
  "metadata": {
    "colab": {
      "provenance": [],
      "collapsed_sections": [],
      "mount_file_id": "1dc0mtEfxm5l1AIyI5kXNoJf6iVzkQCh8",
      "authorship_tag": "ABX9TyPZX225ohqkikIM3TlTDgGV",
      "include_colab_link": true
    },
    "kernelspec": {
      "name": "python3",
      "display_name": "Python 3"
    },
    "language_info": {
      "name": "python"
    },
    "accelerator": "GPU",
    "gpuClass": "standard"
  },
  "cells": [
    {
      "cell_type": "markdown",
      "metadata": {
        "id": "view-in-github",
        "colab_type": "text"
      },
      "source": [
        "<a href=\"https://colab.research.google.com/github/drob-xx/TopicTuner/blob/ver-0.1/TopicTunerDemo.ipynb\" target=\"_parent\"><img src=\"https://colab.research.google.com/assets/colab-badge.svg\" alt=\"Open In Colab\"/></a>"
      ]
    },
    {
      "cell_type": "code",
      "source": [
        "!pip install bertopic\n",
        "\n",
        "# There is a clash with bertopic and the joblib in the latest \n",
        "#        version of hdbscan so we must...\n",
        "!pip install --upgrade joblib==1.1.0"
      ],
      "metadata": {
        "id": "NKv8LKMi50IG"
      },
      "execution_count": null,
      "outputs": []
    },
    {
      "cell_type": "markdown",
      "source": [
        "Get TopicTuner from github"
      ],
      "metadata": {
        "id": "KVfylI4eJ8JC"
      }
    },
    {
      "cell_type": "code",
      "execution_count": null,
      "metadata": {
        "id": "6dKft2wB5O-O"
      },
      "outputs": [],
      "source": [
        "!git clone  https://github.com/drob-xx/TopicTuner.git"
      ]
    },
    {
      "cell_type": "markdown",
      "source": [
        "Place TopicTuner on the path"
      ],
      "metadata": {
        "id": "283vx0Y3OP1G"
      }
    },
    {
      "cell_type": "code",
      "source": [
        "import sys\n",
        "sys.path.insert(0,'/content/TopicTuner')"
      ],
      "metadata": {
        "id": "Ck5Gns0P5utJ"
      },
      "execution_count": 3,
      "outputs": []
    },
    {
      "cell_type": "code",
      "source": [
        "from topictuner import TopicModelTuner as TMT\n",
        "from sklearn.datasets import fetch_20newsgroups"
      ],
      "metadata": {
        "id": "ZCFRzJQH6QgS"
      },
      "execution_count": 5,
      "outputs": []
    },
    {
      "cell_type": "markdown",
      "source": [
        "Get 20NewsGroup data"
      ],
      "metadata": {
        "id": "xJkdeaNzOUO2"
      }
    },
    {
      "cell_type": "code",
      "source": [
        "docs = fetch_20newsgroups(subset='all',  remove=('headers', 'footers', 'quotes'))['data']"
      ],
      "metadata": {
        "id": "1WtYPv-dAQLL"
      },
      "execution_count": 6,
      "outputs": []
    },
    {
      "cell_type": "markdown",
      "source": [
        "Create a TMT instance from scratch"
      ],
      "metadata": {
        "id": "gue1CuooRZk4"
      }
    },
    {
      "cell_type": "code",
      "source": [
        "tmt = TMT()"
      ],
      "metadata": {
        "id": "Kh1cK1ab8tsG"
      },
      "execution_count": 7,
      "outputs": []
    },
    {
      "cell_type": "markdown",
      "source": [
        "Alternatively, you can create one from an existing BERTopic instance by calling \n",
        "\n",
        "newTMT = TMT.wrapBERTopicModel(<your BERTopic model>)"
      ],
      "metadata": {
        "id": "ly-61znFOnt3"
      }
    },
    {
      "cell_type": "markdown",
      "source": [
        "Create the embeddings."
      ],
      "metadata": {
        "id": "N7SykexpTmbe"
      }
    },
    {
      "cell_type": "code",
      "source": [
        "tmt.createEmbeddings(docs)"
      ],
      "metadata": {
        "id": "HJSVoGbPPWK3"
      },
      "execution_count": null,
      "outputs": []
    },
    {
      "cell_type": "markdown",
      "source": [
        "Then reduce them to 5 features ala BERTopic byt calling TMT.reduce()"
      ],
      "metadata": {
        "id": "jKBqKByeZ6-o"
      }
    },
    {
      "cell_type": "code",
      "source": [
        "tmt.reduce()"
      ],
      "metadata": {
        "id": "QJNNFHs9a5OD"
      },
      "execution_count": null,
      "outputs": []
    },
    {
      "cell_type": "markdown",
      "source": [
        "Now we can explore different HDBSCAN settings for this instance of the UMAP reductions.\n",
        "\n",
        "TMT.randomSearch takes two arrays as arguments. By default it will execute 20 searches, randomly selecting the values passed in the first array as the min_cluster_size. The decimal float values in the second array will be randomly selected and then multiplied with the selected min_cluster_size to determine a sample_size.\n",
        "\n",
        "Note that the values for in each of these search examples below will likely have to be modified to give you optimized results for your specific UMAP reduction."
      ],
      "metadata": {
        "id": "oZSqQkGcKZ72"
      }
    },
    {
      "cell_type": "code",
      "source": [
        "lastRunResultsDF = tmt.randomSearch([*range(120,180)], [.1, .25, .5, .75, 1])"
      ],
      "metadata": {
        "id": "6TO9YAwp82tB"
      },
      "execution_count": null,
      "outputs": []
    },
    {
      "cell_type": "markdown",
      "source": [
        "Each time a TMT search is performed all the results are collected in the TMT.ResultsDF DataFrame. Each search returns a DataFrame with just the results of that search."
      ],
      "metadata": {
        "id": "mv6zXB53QP2h"
      }
    },
    {
      "cell_type": "markdown",
      "source": [
        "TMT.visualizeSearch produces a plotly parallel coordinates graph. You can pass it TMT.ResultsDF to get a view of all the searches, or pass it the results from a particular search."
      ],
      "metadata": {
        "id": "2IloGZqmQ99c"
      }
    },
    {
      "cell_type": "code",
      "source": [
        "tmt.visualizeSearch(lastRunResultsDF).show()"
      ],
      "metadata": {
        "id": "ahgpX8TO5buZ"
      },
      "execution_count": null,
      "outputs": []
    },
    {
      "cell_type": "markdown",
      "source": [
        "TMT.summarizeResults sorts a results table by number_of_cluster and selects the 'best' value for that number of clusters by choosing the one with the least uncategorized results."
      ],
      "metadata": {
        "id": "TCgn_hn6RRuG"
      }
    },
    {
      "cell_type": "code",
      "source": [
        "tmt.summarizeResults(lastRunResultsDF).sort_values(by=['number_uncategorized'])"
      ],
      "metadata": {
        "id": "rw6cBymVUCLO"
      },
      "execution_count": null,
      "outputs": []
    },
    {
      "cell_type": "markdown",
      "source": [
        "TMT.gridSearch() is suitable once you have narrowed down the ranges. It will search ALL the min_cluster_size values passed with each of the percentage values being evaluated to the given sample_size value. In the example below 15 runs will be performed - five different sample_sizes for each of the three min_cluster_size values - 131, 132, 133."
      ],
      "metadata": {
        "id": "7lPYFE7HRmJo"
      }
    },
    {
      "cell_type": "code",
      "source": [
        "lastRunResultsDF = tmt.gridSearch([*range(131,134)], [.1, .25, .5, .75, 1])"
      ],
      "metadata": {
        "id": "eDQ-SV5ASN_F"
      },
      "execution_count": null,
      "outputs": []
    },
    {
      "cell_type": "markdown",
      "source": [
        "Once you have narrowed down the values of interest further you may want to run a more thorough search to do this. TMT.simpleSearch takes two arrays as arguments. The first are the min_cluster_sizes and the second are the sample_sizes. You might prepare these lists like this:"
      ],
      "metadata": {
        "id": "BLPfbUUpScxd"
      }
    },
    {
      "cell_type": "code",
      "source": [
        "csizes = []\n",
        "ssizes = []\n",
        "for csize in range(131,132) :\n",
        "  for ssize in range(1, csize+1) :\n",
        "    csizes.append(csize)\n",
        "    ssizes.append(ssize)"
      ],
      "metadata": {
        "id": "czxG9Ps7V0lJ"
      },
      "execution_count": null,
      "outputs": []
    },
    {
      "cell_type": "markdown",
      "source": [
        "In the above example csizes is a list of 131 values of 131. ssizes is 131 values of 1 to 131. This runs ALL possible sample sizes (131) for the min_cluster_size of 131. The first run will be min_cluster_size=131, sample_size=1, the second min_cluster_size=131, sample_size=2 etc."
      ],
      "metadata": {
        "id": "RLgZ1cR-TF0N"
      }
    },
    {
      "cell_type": "code",
      "source": [
        "lastRunResultsDF = tmt.simpleSearch(csizes, ssizes)"
      ],
      "metadata": {
        "id": "YKRFHMFbWu9I"
      },
      "execution_count": null,
      "outputs": []
    },
    {
      "cell_type": "markdown",
      "source": [
        "TMT can generate a scatterplot of your embeddings overlayed with the clustering of a given set of parameters. This can assist in deciding how many clusters to select for your model.\n",
        "\n",
        "To accomplish this, first you must create a 2D reduction of the embeddings suitable for a 2D scatterplot."
      ],
      "metadata": {
        "id": "Yn4hf6EjMdal"
      }
    },
    {
      "cell_type": "code",
      "source": [
        "tmt.createVizReduction()"
      ],
      "metadata": {
        "id": "Vphs9OJ6EPUM"
      },
      "execution_count": null,
      "outputs": []
    },
    {
      "cell_type": "markdown",
      "source": [
        "If TMT has access to the docs it will use them to add document text to the scatterplot."
      ],
      "metadata": {
        "id": "x4-uDiVOM-Vy"
      }
    },
    {
      "cell_type": "code",
      "source": [
        "tmt.visualizeEmbeddings(131,78).show()"
      ],
      "metadata": {
        "id": "pdZdlcBpDDXm"
      },
      "execution_count": null,
      "outputs": []
    },
    {
      "cell_type": "markdown",
      "source": [
        "You can save your TMT model with TMT.save()"
      ],
      "metadata": {
        "id": "XMTaV7PgUf5g"
      }
    },
    {
      "cell_type": "code",
      "source": [
        "tmt.save('temp')"
      ],
      "metadata": {
        "id": "mKzLRAmaGhm0"
      },
      "execution_count": null,
      "outputs": []
    },
    {
      "cell_type": "markdown",
      "source": [
        "And restore it using TMT.load()"
      ],
      "metadata": {
        "id": "YrU1cZQ2Un5I"
      }
    },
    {
      "cell_type": "code",
      "source": [
        "tmt2 = TMT.load('temp')"
      ],
      "metadata": {
        "id": "545L8NKYJrjX"
      },
      "execution_count": null,
      "outputs": []
    },
    {
      "cell_type": "markdown",
      "source": [
        "Once you have determined parameters that work for your text, TMT can manufacture a BERTopic model. Note in this example we pass BERTopic the embeddings created earlier - no need to have BERTopic re-run them."
      ],
      "metadata": {
        "id": "TGkKFVBLUu4g"
      }
    },
    {
      "cell_type": "code",
      "source": [
        "bt1 = tmt2.getBERTopicModel(131, 24)\n",
        "bt1.fit_transform(tmt2.docs, tmt2.embeddings)\n",
        "bt1.get_topics_info()"
      ],
      "metadata": {
        "id": "TGBoE6tjM4Aa"
      },
      "execution_count": 15,
      "outputs": []
    }
  ]
}