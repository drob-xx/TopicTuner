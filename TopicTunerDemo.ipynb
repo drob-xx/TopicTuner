{
  "nbformat": 4,
  "nbformat_minor": 0,
  "metadata": {
    "colab": {
      "provenance": [],
      "collapsed_sections": [],
      "mount_file_id": "1dc0mtEfxm5l1AIyI5kXNoJf6iVzkQCh8",
      "authorship_tag": "ABX9TyPZX225ohqkikIM3TlTDgGV",
      "include_colab_link": true
    },
    "kernelspec": {
      "name": "python3",
      "display_name": "Python 3"
    },
    "language_info": {
      "name": "python"
    },
    "accelerator": "GPU",
    "gpuClass": "standard",
    "widgets": {
      "application/vnd.jupyter.widget-state+json": {
        "05c4b0283f4e43d2b725ea26ededb994": {
          "model_module": "@jupyter-widgets/controls",
          "model_name": "HBoxModel",
          "model_module_version": "1.5.0",
          "state": {
            "_dom_classes": [],
            "_model_module": "@jupyter-widgets/controls",
            "_model_module_version": "1.5.0",
            "_model_name": "HBoxModel",
            "_view_count": null,
            "_view_module": "@jupyter-widgets/controls",
            "_view_module_version": "1.5.0",
            "_view_name": "HBoxView",
            "box_style": "",
            "children": [
              "IPY_MODEL_ee160d7a6cd547b0be592f64e19671cb",
              "IPY_MODEL_208aaa1334374d528538654cf2dd8e1f",
              "IPY_MODEL_25e6e0a2d47848f784f9f0f1e2938517"
            ],
            "layout": "IPY_MODEL_c102177b5d3643249fbcebc0e5758dfe"
          }
        },
        "ee160d7a6cd547b0be592f64e19671cb": {
          "model_module": "@jupyter-widgets/controls",
          "model_name": "HTMLModel",
          "model_module_version": "1.5.0",
          "state": {
            "_dom_classes": [],
            "_model_module": "@jupyter-widgets/controls",
            "_model_module_version": "1.5.0",
            "_model_name": "HTMLModel",
            "_view_count": null,
            "_view_module": "@jupyter-widgets/controls",
            "_view_module_version": "1.5.0",
            "_view_name": "HTMLView",
            "description": "",
            "description_tooltip": null,
            "layout": "IPY_MODEL_82eae1d2603344cf872e62d8dbcf0de1",
            "placeholder": "​",
            "style": "IPY_MODEL_49c4ea0ea06a48ab8bfa97afb5c0bd9e",
            "value": "100%"
          }
        },
        "208aaa1334374d528538654cf2dd8e1f": {
          "model_module": "@jupyter-widgets/controls",
          "model_name": "FloatProgressModel",
          "model_module_version": "1.5.0",
          "state": {
            "_dom_classes": [],
            "_model_module": "@jupyter-widgets/controls",
            "_model_module_version": "1.5.0",
            "_model_name": "FloatProgressModel",
            "_view_count": null,
            "_view_module": "@jupyter-widgets/controls",
            "_view_module_version": "1.5.0",
            "_view_name": "ProgressView",
            "bar_style": "success",
            "description": "",
            "description_tooltip": null,
            "layout": "IPY_MODEL_877b1c4fa75c45d597bfe95bdf1168cb",
            "max": 15,
            "min": 0,
            "orientation": "horizontal",
            "style": "IPY_MODEL_cb47bc983e1e4c988bc37b5b54a09ae0",
            "value": 15
          }
        },
        "25e6e0a2d47848f784f9f0f1e2938517": {
          "model_module": "@jupyter-widgets/controls",
          "model_name": "HTMLModel",
          "model_module_version": "1.5.0",
          "state": {
            "_dom_classes": [],
            "_model_module": "@jupyter-widgets/controls",
            "_model_module_version": "1.5.0",
            "_model_name": "HTMLModel",
            "_view_count": null,
            "_view_module": "@jupyter-widgets/controls",
            "_view_module_version": "1.5.0",
            "_view_name": "HTMLView",
            "description": "",
            "description_tooltip": null,
            "layout": "IPY_MODEL_9bc099818a5b45ceba0e98daf1cd0981",
            "placeholder": "​",
            "style": "IPY_MODEL_e26ff1fcbcdd4789b99d6420f42354eb",
            "value": " 15/15 [00:18&lt;00:00,  1.43s/it]"
          }
        },
        "c102177b5d3643249fbcebc0e5758dfe": {
          "model_module": "@jupyter-widgets/base",
          "model_name": "LayoutModel",
          "model_module_version": "1.2.0",
          "state": {
            "_model_module": "@jupyter-widgets/base",
            "_model_module_version": "1.2.0",
            "_model_name": "LayoutModel",
            "_view_count": null,
            "_view_module": "@jupyter-widgets/base",
            "_view_module_version": "1.2.0",
            "_view_name": "LayoutView",
            "align_content": null,
            "align_items": null,
            "align_self": null,
            "border": null,
            "bottom": null,
            "display": null,
            "flex": null,
            "flex_flow": null,
            "grid_area": null,
            "grid_auto_columns": null,
            "grid_auto_flow": null,
            "grid_auto_rows": null,
            "grid_column": null,
            "grid_gap": null,
            "grid_row": null,
            "grid_template_areas": null,
            "grid_template_columns": null,
            "grid_template_rows": null,
            "height": null,
            "justify_content": null,
            "justify_items": null,
            "left": null,
            "margin": null,
            "max_height": null,
            "max_width": null,
            "min_height": null,
            "min_width": null,
            "object_fit": null,
            "object_position": null,
            "order": null,
            "overflow": null,
            "overflow_x": null,
            "overflow_y": null,
            "padding": null,
            "right": null,
            "top": null,
            "visibility": null,
            "width": null
          }
        },
        "82eae1d2603344cf872e62d8dbcf0de1": {
          "model_module": "@jupyter-widgets/base",
          "model_name": "LayoutModel",
          "model_module_version": "1.2.0",
          "state": {
            "_model_module": "@jupyter-widgets/base",
            "_model_module_version": "1.2.0",
            "_model_name": "LayoutModel",
            "_view_count": null,
            "_view_module": "@jupyter-widgets/base",
            "_view_module_version": "1.2.0",
            "_view_name": "LayoutView",
            "align_content": null,
            "align_items": null,
            "align_self": null,
            "border": null,
            "bottom": null,
            "display": null,
            "flex": null,
            "flex_flow": null,
            "grid_area": null,
            "grid_auto_columns": null,
            "grid_auto_flow": null,
            "grid_auto_rows": null,
            "grid_column": null,
            "grid_gap": null,
            "grid_row": null,
            "grid_template_areas": null,
            "grid_template_columns": null,
            "grid_template_rows": null,
            "height": null,
            "justify_content": null,
            "justify_items": null,
            "left": null,
            "margin": null,
            "max_height": null,
            "max_width": null,
            "min_height": null,
            "min_width": null,
            "object_fit": null,
            "object_position": null,
            "order": null,
            "overflow": null,
            "overflow_x": null,
            "overflow_y": null,
            "padding": null,
            "right": null,
            "top": null,
            "visibility": null,
            "width": null
          }
        },
        "49c4ea0ea06a48ab8bfa97afb5c0bd9e": {
          "model_module": "@jupyter-widgets/controls",
          "model_name": "DescriptionStyleModel",
          "model_module_version": "1.5.0",
          "state": {
            "_model_module": "@jupyter-widgets/controls",
            "_model_module_version": "1.5.0",
            "_model_name": "DescriptionStyleModel",
            "_view_count": null,
            "_view_module": "@jupyter-widgets/base",
            "_view_module_version": "1.2.0",
            "_view_name": "StyleView",
            "description_width": ""
          }
        },
        "877b1c4fa75c45d597bfe95bdf1168cb": {
          "model_module": "@jupyter-widgets/base",
          "model_name": "LayoutModel",
          "model_module_version": "1.2.0",
          "state": {
            "_model_module": "@jupyter-widgets/base",
            "_model_module_version": "1.2.0",
            "_model_name": "LayoutModel",
            "_view_count": null,
            "_view_module": "@jupyter-widgets/base",
            "_view_module_version": "1.2.0",
            "_view_name": "LayoutView",
            "align_content": null,
            "align_items": null,
            "align_self": null,
            "border": null,
            "bottom": null,
            "display": null,
            "flex": null,
            "flex_flow": null,
            "grid_area": null,
            "grid_auto_columns": null,
            "grid_auto_flow": null,
            "grid_auto_rows": null,
            "grid_column": null,
            "grid_gap": null,
            "grid_row": null,
            "grid_template_areas": null,
            "grid_template_columns": null,
            "grid_template_rows": null,
            "height": null,
            "justify_content": null,
            "justify_items": null,
            "left": null,
            "margin": null,
            "max_height": null,
            "max_width": null,
            "min_height": null,
            "min_width": null,
            "object_fit": null,
            "object_position": null,
            "order": null,
            "overflow": null,
            "overflow_x": null,
            "overflow_y": null,
            "padding": null,
            "right": null,
            "top": null,
            "visibility": null,
            "width": null
          }
        },
        "cb47bc983e1e4c988bc37b5b54a09ae0": {
          "model_module": "@jupyter-widgets/controls",
          "model_name": "ProgressStyleModel",
          "model_module_version": "1.5.0",
          "state": {
            "_model_module": "@jupyter-widgets/controls",
            "_model_module_version": "1.5.0",
            "_model_name": "ProgressStyleModel",
            "_view_count": null,
            "_view_module": "@jupyter-widgets/base",
            "_view_module_version": "1.2.0",
            "_view_name": "StyleView",
            "bar_color": null,
            "description_width": ""
          }
        },
        "9bc099818a5b45ceba0e98daf1cd0981": {
          "model_module": "@jupyter-widgets/base",
          "model_name": "LayoutModel",
          "model_module_version": "1.2.0",
          "state": {
            "_model_module": "@jupyter-widgets/base",
            "_model_module_version": "1.2.0",
            "_model_name": "LayoutModel",
            "_view_count": null,
            "_view_module": "@jupyter-widgets/base",
            "_view_module_version": "1.2.0",
            "_view_name": "LayoutView",
            "align_content": null,
            "align_items": null,
            "align_self": null,
            "border": null,
            "bottom": null,
            "display": null,
            "flex": null,
            "flex_flow": null,
            "grid_area": null,
            "grid_auto_columns": null,
            "grid_auto_flow": null,
            "grid_auto_rows": null,
            "grid_column": null,
            "grid_gap": null,
            "grid_row": null,
            "grid_template_areas": null,
            "grid_template_columns": null,
            "grid_template_rows": null,
            "height": null,
            "justify_content": null,
            "justify_items": null,
            "left": null,
            "margin": null,
            "max_height": null,
            "max_width": null,
            "min_height": null,
            "min_width": null,
            "object_fit": null,
            "object_position": null,
            "order": null,
            "overflow": null,
            "overflow_x": null,
            "overflow_y": null,
            "padding": null,
            "right": null,
            "top": null,
            "visibility": null,
            "width": null
          }
        },
        "e26ff1fcbcdd4789b99d6420f42354eb": {
          "model_module": "@jupyter-widgets/controls",
          "model_name": "DescriptionStyleModel",
          "model_module_version": "1.5.0",
          "state": {
            "_model_module": "@jupyter-widgets/controls",
            "_model_module_version": "1.5.0",
            "_model_name": "DescriptionStyleModel",
            "_view_count": null,
            "_view_module": "@jupyter-widgets/base",
            "_view_module_version": "1.2.0",
            "_view_name": "StyleView",
            "description_width": ""
          }
        },
        "975a0e8ed0fd478da80c8537ef618db3": {
          "model_module": "@jupyter-widgets/controls",
          "model_name": "HBoxModel",
          "model_module_version": "1.5.0",
          "state": {
            "_dom_classes": [],
            "_model_module": "@jupyter-widgets/controls",
            "_model_module_version": "1.5.0",
            "_model_name": "HBoxModel",
            "_view_count": null,
            "_view_module": "@jupyter-widgets/controls",
            "_view_module_version": "1.5.0",
            "_view_name": "HBoxView",
            "box_style": "",
            "children": [
              "IPY_MODEL_c2740680da934d3d9038403ed49ef13e",
              "IPY_MODEL_42038176808a4600b3d75d6714f166ff",
              "IPY_MODEL_ae785fb2ae444f9c95c74c94e70d9e95"
            ],
            "layout": "IPY_MODEL_b12300e7daea481f8a5186be4284a264"
          }
        },
        "c2740680da934d3d9038403ed49ef13e": {
          "model_module": "@jupyter-widgets/controls",
          "model_name": "HTMLModel",
          "model_module_version": "1.5.0",
          "state": {
            "_dom_classes": [],
            "_model_module": "@jupyter-widgets/controls",
            "_model_module_version": "1.5.0",
            "_model_name": "HTMLModel",
            "_view_count": null,
            "_view_module": "@jupyter-widgets/controls",
            "_view_module_version": "1.5.0",
            "_view_name": "HTMLView",
            "description": "",
            "description_tooltip": null,
            "layout": "IPY_MODEL_d582f912baa44b14a48c2ed058e807dd",
            "placeholder": "​",
            "style": "IPY_MODEL_190a9d9f7d624af88e7bcd51a2c46560",
            "value": "100%"
          }
        },
        "42038176808a4600b3d75d6714f166ff": {
          "model_module": "@jupyter-widgets/controls",
          "model_name": "FloatProgressModel",
          "model_module_version": "1.5.0",
          "state": {
            "_dom_classes": [],
            "_model_module": "@jupyter-widgets/controls",
            "_model_module_version": "1.5.0",
            "_model_name": "FloatProgressModel",
            "_view_count": null,
            "_view_module": "@jupyter-widgets/controls",
            "_view_module_version": "1.5.0",
            "_view_name": "ProgressView",
            "bar_style": "success",
            "description": "",
            "description_tooltip": null,
            "layout": "IPY_MODEL_90819d90bc9f4692998604455ea228b6",
            "max": 131,
            "min": 0,
            "orientation": "horizontal",
            "style": "IPY_MODEL_515fab6a128d4326aef5aba0ded74c21",
            "value": 131
          }
        },
        "ae785fb2ae444f9c95c74c94e70d9e95": {
          "model_module": "@jupyter-widgets/controls",
          "model_name": "HTMLModel",
          "model_module_version": "1.5.0",
          "state": {
            "_dom_classes": [],
            "_model_module": "@jupyter-widgets/controls",
            "_model_module_version": "1.5.0",
            "_model_name": "HTMLModel",
            "_view_count": null,
            "_view_module": "@jupyter-widgets/controls",
            "_view_module_version": "1.5.0",
            "_view_name": "HTMLView",
            "description": "",
            "description_tooltip": null,
            "layout": "IPY_MODEL_f5024cf1d4f2447a8ea8f60188e6c6dd",
            "placeholder": "​",
            "style": "IPY_MODEL_81f5f78c3dba47ad8c35635a73b6edf3",
            "value": " 131/131 [02:42&lt;00:00,  1.75s/it]"
          }
        },
        "b12300e7daea481f8a5186be4284a264": {
          "model_module": "@jupyter-widgets/base",
          "model_name": "LayoutModel",
          "model_module_version": "1.2.0",
          "state": {
            "_model_module": "@jupyter-widgets/base",
            "_model_module_version": "1.2.0",
            "_model_name": "LayoutModel",
            "_view_count": null,
            "_view_module": "@jupyter-widgets/base",
            "_view_module_version": "1.2.0",
            "_view_name": "LayoutView",
            "align_content": null,
            "align_items": null,
            "align_self": null,
            "border": null,
            "bottom": null,
            "display": null,
            "flex": null,
            "flex_flow": null,
            "grid_area": null,
            "grid_auto_columns": null,
            "grid_auto_flow": null,
            "grid_auto_rows": null,
            "grid_column": null,
            "grid_gap": null,
            "grid_row": null,
            "grid_template_areas": null,
            "grid_template_columns": null,
            "grid_template_rows": null,
            "height": null,
            "justify_content": null,
            "justify_items": null,
            "left": null,
            "margin": null,
            "max_height": null,
            "max_width": null,
            "min_height": null,
            "min_width": null,
            "object_fit": null,
            "object_position": null,
            "order": null,
            "overflow": null,
            "overflow_x": null,
            "overflow_y": null,
            "padding": null,
            "right": null,
            "top": null,
            "visibility": null,
            "width": null
          }
        },
        "d582f912baa44b14a48c2ed058e807dd": {
          "model_module": "@jupyter-widgets/base",
          "model_name": "LayoutModel",
          "model_module_version": "1.2.0",
          "state": {
            "_model_module": "@jupyter-widgets/base",
            "_model_module_version": "1.2.0",
            "_model_name": "LayoutModel",
            "_view_count": null,
            "_view_module": "@jupyter-widgets/base",
            "_view_module_version": "1.2.0",
            "_view_name": "LayoutView",
            "align_content": null,
            "align_items": null,
            "align_self": null,
            "border": null,
            "bottom": null,
            "display": null,
            "flex": null,
            "flex_flow": null,
            "grid_area": null,
            "grid_auto_columns": null,
            "grid_auto_flow": null,
            "grid_auto_rows": null,
            "grid_column": null,
            "grid_gap": null,
            "grid_row": null,
            "grid_template_areas": null,
            "grid_template_columns": null,
            "grid_template_rows": null,
            "height": null,
            "justify_content": null,
            "justify_items": null,
            "left": null,
            "margin": null,
            "max_height": null,
            "max_width": null,
            "min_height": null,
            "min_width": null,
            "object_fit": null,
            "object_position": null,
            "order": null,
            "overflow": null,
            "overflow_x": null,
            "overflow_y": null,
            "padding": null,
            "right": null,
            "top": null,
            "visibility": null,
            "width": null
          }
        },
        "190a9d9f7d624af88e7bcd51a2c46560": {
          "model_module": "@jupyter-widgets/controls",
          "model_name": "DescriptionStyleModel",
          "model_module_version": "1.5.0",
          "state": {
            "_model_module": "@jupyter-widgets/controls",
            "_model_module_version": "1.5.0",
            "_model_name": "DescriptionStyleModel",
            "_view_count": null,
            "_view_module": "@jupyter-widgets/base",
            "_view_module_version": "1.2.0",
            "_view_name": "StyleView",
            "description_width": ""
          }
        },
        "90819d90bc9f4692998604455ea228b6": {
          "model_module": "@jupyter-widgets/base",
          "model_name": "LayoutModel",
          "model_module_version": "1.2.0",
          "state": {
            "_model_module": "@jupyter-widgets/base",
            "_model_module_version": "1.2.0",
            "_model_name": "LayoutModel",
            "_view_count": null,
            "_view_module": "@jupyter-widgets/base",
            "_view_module_version": "1.2.0",
            "_view_name": "LayoutView",
            "align_content": null,
            "align_items": null,
            "align_self": null,
            "border": null,
            "bottom": null,
            "display": null,
            "flex": null,
            "flex_flow": null,
            "grid_area": null,
            "grid_auto_columns": null,
            "grid_auto_flow": null,
            "grid_auto_rows": null,
            "grid_column": null,
            "grid_gap": null,
            "grid_row": null,
            "grid_template_areas": null,
            "grid_template_columns": null,
            "grid_template_rows": null,
            "height": null,
            "justify_content": null,
            "justify_items": null,
            "left": null,
            "margin": null,
            "max_height": null,
            "max_width": null,
            "min_height": null,
            "min_width": null,
            "object_fit": null,
            "object_position": null,
            "order": null,
            "overflow": null,
            "overflow_x": null,
            "overflow_y": null,
            "padding": null,
            "right": null,
            "top": null,
            "visibility": null,
            "width": null
          }
        },
        "515fab6a128d4326aef5aba0ded74c21": {
          "model_module": "@jupyter-widgets/controls",
          "model_name": "ProgressStyleModel",
          "model_module_version": "1.5.0",
          "state": {
            "_model_module": "@jupyter-widgets/controls",
            "_model_module_version": "1.5.0",
            "_model_name": "ProgressStyleModel",
            "_view_count": null,
            "_view_module": "@jupyter-widgets/base",
            "_view_module_version": "1.2.0",
            "_view_name": "StyleView",
            "bar_color": null,
            "description_width": ""
          }
        },
        "f5024cf1d4f2447a8ea8f60188e6c6dd": {
          "model_module": "@jupyter-widgets/base",
          "model_name": "LayoutModel",
          "model_module_version": "1.2.0",
          "state": {
            "_model_module": "@jupyter-widgets/base",
            "_model_module_version": "1.2.0",
            "_model_name": "LayoutModel",
            "_view_count": null,
            "_view_module": "@jupyter-widgets/base",
            "_view_module_version": "1.2.0",
            "_view_name": "LayoutView",
            "align_content": null,
            "align_items": null,
            "align_self": null,
            "border": null,
            "bottom": null,
            "display": null,
            "flex": null,
            "flex_flow": null,
            "grid_area": null,
            "grid_auto_columns": null,
            "grid_auto_flow": null,
            "grid_auto_rows": null,
            "grid_column": null,
            "grid_gap": null,
            "grid_row": null,
            "grid_template_areas": null,
            "grid_template_columns": null,
            "grid_template_rows": null,
            "height": null,
            "justify_content": null,
            "justify_items": null,
            "left": null,
            "margin": null,
            "max_height": null,
            "max_width": null,
            "min_height": null,
            "min_width": null,
            "object_fit": null,
            "object_position": null,
            "order": null,
            "overflow": null,
            "overflow_x": null,
            "overflow_y": null,
            "padding": null,
            "right": null,
            "top": null,
            "visibility": null,
            "width": null
          }
        },
        "81f5f78c3dba47ad8c35635a73b6edf3": {
          "model_module": "@jupyter-widgets/controls",
          "model_name": "DescriptionStyleModel",
          "model_module_version": "1.5.0",
          "state": {
            "_model_module": "@jupyter-widgets/controls",
            "_model_module_version": "1.5.0",
            "_model_name": "DescriptionStyleModel",
            "_view_count": null,
            "_view_module": "@jupyter-widgets/base",
            "_view_module_version": "1.2.0",
            "_view_name": "StyleView",
            "description_width": ""
          }
        }
      }
    }
  },
  "cells": [
    {
      "cell_type": "markdown",
      "metadata": {
        "id": "view-in-github",
        "colab_type": "text"
      },
      "source": [
        "<a href=\"https://colab.research.google.com/github/drob-xx/TopicTuner/blob/ver-0.1/TopicTunerDemo.ipynb\" target=\"_parent\"><img src=\"https://colab.research.google.com/assets/colab-badge.svg\" alt=\"Open In Colab\"/></a>"
      ]
    },
    {
      "cell_type": "code",
      "source": [
        "!pip install bertopic\n",
        "\n",
        "# There is a clash with bertopic and the joblib in the latest \n",
        "#        version of hdbscan so we must...\n",
        "!pip install --upgrade joblib==1.1.0"
      ],
      "metadata": {
        "id": "NKv8LKMi50IG"
      },
      "execution_count": null,
      "outputs": []
    },
    {
      "cell_type": "markdown",
      "source": [
        "Get TopicTuner from github"
      ],
      "metadata": {
        "id": "KVfylI4eJ8JC"
      }
    },
    {
      "cell_type": "code",
      "execution_count": 2,
      "metadata": {
        "id": "6dKft2wB5O-O",
        "colab": {
          "base_uri": "https://localhost:8080/"
        },
        "outputId": "df539ae7-332a-43e4-e437-a1710c667bd1"
      },
      "outputs": [
        {
          "output_type": "stream",
          "name": "stdout",
          "text": [
            "Cloning into 'TopicTuner'...\n",
            "remote: Enumerating objects: 199, done.\u001b[K\n",
            "remote: Counting objects: 100% (45/45), done.\u001b[K\n",
            "remote: Compressing objects: 100% (34/34), done.\u001b[K\n",
            "remote: Total 199 (delta 23), reused 24 (delta 10), pack-reused 154\u001b[K\n",
            "Receiving objects: 100% (199/199), 268.20 KiB | 1.64 MiB/s, done.\n",
            "Resolving deltas: 100% (107/107), done.\n"
          ]
        }
      ],
      "source": [
        "!git clone  https://github.com/drob-xx/TopicTuner.git"
      ]
    },
    {
      "cell_type": "markdown",
      "source": [
        "Place TopicTuner on the path"
      ],
      "metadata": {
        "id": "283vx0Y3OP1G"
      }
    },
    {
      "cell_type": "code",
      "source": [
        "import sys\n",
        "sys.path.insert(0,'/content/TopicTuner')"
      ],
      "metadata": {
        "id": "Ck5Gns0P5utJ"
      },
      "execution_count": 3,
      "outputs": []
    },
    {
      "cell_type": "code",
      "source": [
        "from topictuner import TopicModelTuner as TMT\n",
        "from sklearn.datasets import fetch_20newsgroups"
      ],
      "metadata": {
        "id": "ZCFRzJQH6QgS"
      },
      "execution_count": 5,
      "outputs": []
    },
    {
      "cell_type": "markdown",
      "source": [
        "Get 20NewsGroup data"
      ],
      "metadata": {
        "id": "xJkdeaNzOUO2"
      }
    },
    {
      "cell_type": "code",
      "source": [
        "docs = fetch_20newsgroups(subset='all',  remove=('headers', 'footers', 'quotes'))['data']"
      ],
      "metadata": {
        "id": "1WtYPv-dAQLL"
      },
      "execution_count": 6,
      "outputs": []
    },
    {
      "cell_type": "markdown",
      "source": [
        "Create a TMT instance from scratch"
      ],
      "metadata": {
        "id": "gue1CuooRZk4"
      }
    },
    {
      "cell_type": "code",
      "source": [
        "tmt = TMT()"
      ],
      "metadata": {
        "id": "Kh1cK1ab8tsG"
      },
      "execution_count": 7,
      "outputs": []
    },
    {
      "cell_type": "markdown",
      "source": [
        "Alternatively, you can create one from an existing BERTopic instance by calling \n",
        "\n",
        "newTMT = TMT.wrapBERTopicModel(<your BERTopic model>)"
      ],
      "metadata": {
        "id": "ly-61znFOnt3"
      }
    },
    {
      "cell_type": "markdown",
      "source": [
        "Create the embeddings."
      ],
      "metadata": {
        "id": "N7SykexpTmbe"
      }
    },
    {
      "cell_type": "code",
      "source": [
        "tmt.createEmbeddings(docs)"
      ],
      "metadata": {
        "id": "HJSVoGbPPWK3"
      },
      "execution_count": null,
      "outputs": []
    },
    {
      "cell_type": "markdown",
      "source": [
        "Then reduce them to 5 features ala BERTopic byt calling TMT.reduce()"
      ],
      "metadata": {
        "id": "jKBqKByeZ6-o"
      }
    },
    {
      "cell_type": "code",
      "source": [
        "tmt.reduce()"
      ],
      "metadata": {
        "id": "QJNNFHs9a5OD"
      },
      "execution_count": null,
      "outputs": []
    },
    {
      "cell_type": "markdown",
      "source": [
        "Now we can explore different HDBSCAN settings for this instance of the UMAP reductions.\n",
        "\n",
        "TMT.randomSearch takes two arrays as arguments. By default it will execute 20 searches, randomly selecting the values passed in the first array as the min_cluster_size. The decimal float values in the second array will be randomly selected and then multiplied with the selected min_cluster_size to determine a sample_size.\n",
        "\n",
        "Note that the values for in each of these search examples below will likely have to be modified to give you optimized results for your specific UMAP reduction."
      ],
      "metadata": {
        "id": "oZSqQkGcKZ72"
      }
    },
    {
      "cell_type": "code",
      "source": [
        "lastRunResultsDF = tmt.randomSearch([*range(120,180)], [.1, .25, .5, .75, 1])"
      ],
      "metadata": {
        "id": "6TO9YAwp82tB"
      },
      "execution_count": null,
      "outputs": []
    },
    {
      "cell_type": "markdown",
      "source": [
        "Each time a TMT search is performed all the results are collected in the TMT.ResultsDF DataFrame. Each search returns a DataFrame with just the results of that search."
      ],
      "metadata": {
        "id": "mv6zXB53QP2h"
      }
    },
    {
      "cell_type": "markdown",
      "source": [
        "TMT.visualizeSearch produces a plotly parallel coordinates graph. You can pass it TMT.ResultsDF to get a view of all the searches, or pass it the results from a particular search."
      ],
      "metadata": {
        "id": "2IloGZqmQ99c"
      }
    },
    {
      "cell_type": "code",
      "source": [
        "tmt.visualizeSearch(lastRunResultsDF).show()"
      ],
      "metadata": {
        "id": "ahgpX8TO5buZ"
      },
      "execution_count": null,
      "outputs": []
    },
    {
      "cell_type": "markdown",
      "source": [
        "TMT.summarizeResults sorts a results table by number_of_cluster and selects the 'best' value for that number of clusters by choosing the one with the least uncategorized results."
      ],
      "metadata": {
        "id": "TCgn_hn6RRuG"
      }
    },
    {
      "cell_type": "code",
      "source": [
        "tmt.summarizeResults(lastRunResultsDF).sort_values(by=['number_uncategorized'])"
      ],
      "metadata": {
        "id": "rw6cBymVUCLO"
      },
      "execution_count": null,
      "outputs": []
    },
    {
      "cell_type": "markdown",
      "source": [
        "TMT.gridSearch() is suitable once you have narrowed down the ranges. It will search ALL the min_cluster_size values passed with each of the percentage values being evaluated to the given sample_size value. In the example below 15 runs will be performed - five different sample_sizes for each of the three min_cluster_size values - 131, 132, 133."
      ],
      "metadata": {
        "id": "7lPYFE7HRmJo"
      }
    },
    {
      "cell_type": "code",
      "source": [
        "lastRunResultsDF = tmt.gridSearch([*range(131,134)], [.1, .25, .5, .75, 1])"
      ],
      "metadata": {
        "colab": {
          "base_uri": "https://localhost:8080/",
          "height": 49,
          "referenced_widgets": [
            "05c4b0283f4e43d2b725ea26ededb994",
            "ee160d7a6cd547b0be592f64e19671cb",
            "208aaa1334374d528538654cf2dd8e1f",
            "25e6e0a2d47848f784f9f0f1e2938517",
            "c102177b5d3643249fbcebc0e5758dfe",
            "82eae1d2603344cf872e62d8dbcf0de1",
            "49c4ea0ea06a48ab8bfa97afb5c0bd9e",
            "877b1c4fa75c45d597bfe95bdf1168cb",
            "cb47bc983e1e4c988bc37b5b54a09ae0",
            "9bc099818a5b45ceba0e98daf1cd0981",
            "e26ff1fcbcdd4789b99d6420f42354eb"
          ]
        },
        "id": "eDQ-SV5ASN_F",
        "outputId": "79df8bbd-51f6-4f7d-9bd6-376d1db73851"
      },
      "execution_count": null,
      "outputs": [
        {
          "output_type": "display_data",
          "data": {
            "text/plain": [
              "  0%|          | 0/15 [00:00<?, ?it/s]"
            ],
            "application/vnd.jupyter.widget-view+json": {
              "version_major": 2,
              "version_minor": 0,
              "model_id": "05c4b0283f4e43d2b725ea26ededb994"
            }
          },
          "metadata": {}
        }
      ]
    },
    {
      "cell_type": "markdown",
      "source": [
        "Once you have narrowed down the values of interest further you may want to run a more thorough search to do this. TMT.simpleSearch takes two arrays as arguments. The first are the min_cluster_sizes and the second are the sample_sizes. You might prepare these lists like this:"
      ],
      "metadata": {
        "id": "BLPfbUUpScxd"
      }
    },
    {
      "cell_type": "code",
      "source": [
        "csizes = []\n",
        "ssizes = []\n",
        "for csize in range(131,132) :\n",
        "  for ssize in range(1, csize+1) :\n",
        "    csizes.append(csize)\n",
        "    ssizes.append(ssize)"
      ],
      "metadata": {
        "id": "czxG9Ps7V0lJ"
      },
      "execution_count": null,
      "outputs": []
    },
    {
      "cell_type": "markdown",
      "source": [
        "In the above example csizes is a list of 131 values of 131. ssizes is 131 values of 1 to 131. This runs ALL possible sample sizes (131) for the min_cluster_size of 131. The first run will be min_cluster_size=131, sample_size=1, the second min_cluster_size=131, sample_size=2 etc."
      ],
      "metadata": {
        "id": "RLgZ1cR-TF0N"
      }
    },
    {
      "cell_type": "code",
      "source": [
        "lastRunResultsDF = tmt.simpleSearch(csizes, ssizes)"
      ],
      "metadata": {
        "colab": {
          "base_uri": "https://localhost:8080/",
          "height": 49,
          "referenced_widgets": [
            "975a0e8ed0fd478da80c8537ef618db3",
            "c2740680da934d3d9038403ed49ef13e",
            "42038176808a4600b3d75d6714f166ff",
            "ae785fb2ae444f9c95c74c94e70d9e95",
            "b12300e7daea481f8a5186be4284a264",
            "d582f912baa44b14a48c2ed058e807dd",
            "190a9d9f7d624af88e7bcd51a2c46560",
            "90819d90bc9f4692998604455ea228b6",
            "515fab6a128d4326aef5aba0ded74c21",
            "f5024cf1d4f2447a8ea8f60188e6c6dd",
            "81f5f78c3dba47ad8c35635a73b6edf3"
          ]
        },
        "id": "YKRFHMFbWu9I",
        "outputId": "ccb2bf67-2241-415f-b3d7-8f469052fb35"
      },
      "execution_count": null,
      "outputs": [
        {
          "output_type": "display_data",
          "data": {
            "text/plain": [
              "  0%|          | 0/131 [00:00<?, ?it/s]"
            ],
            "application/vnd.jupyter.widget-view+json": {
              "version_major": 2,
              "version_minor": 0,
              "model_id": "975a0e8ed0fd478da80c8537ef618db3"
            }
          },
          "metadata": {}
        }
      ]
    },
    {
      "cell_type": "markdown",
      "source": [
        "TMT can generate a scatterplot of your embeddings overlayed with the clustering of a given set of parameters. This can assist in deciding how many clusters to select for your model.\n",
        "\n",
        "To accomplish this, first you must create a 2D reduction of the embeddings suitable for a 2D scatterplot."
      ],
      "metadata": {
        "id": "Yn4hf6EjMdal"
      }
    },
    {
      "cell_type": "code",
      "source": [
        "tmt.createVizReduction()"
      ],
      "metadata": {
        "id": "Vphs9OJ6EPUM"
      },
      "execution_count": null,
      "outputs": []
    },
    {
      "cell_type": "markdown",
      "source": [
        "If TMT has access to the docs it will use them to add document text to the scatterplot."
      ],
      "metadata": {
        "id": "x4-uDiVOM-Vy"
      }
    },
    {
      "cell_type": "code",
      "source": [
        "tmt.visualizeEmbeddings(131,78).show()"
      ],
      "metadata": {
        "id": "pdZdlcBpDDXm"
      },
      "execution_count": null,
      "outputs": []
    },
    {
      "cell_type": "markdown",
      "source": [
        "You can save your TMT model with TMT.save()"
      ],
      "metadata": {
        "id": "XMTaV7PgUf5g"
      }
    },
    {
      "cell_type": "code",
      "source": [
        "tmt.save('temp')"
      ],
      "metadata": {
        "id": "mKzLRAmaGhm0"
      },
      "execution_count": null,
      "outputs": []
    },
    {
      "cell_type": "markdown",
      "source": [
        "And restore it using TMT.load()"
      ],
      "metadata": {
        "id": "YrU1cZQ2Un5I"
      }
    },
    {
      "cell_type": "code",
      "source": [
        "tmt2 = TMT.load('temp')"
      ],
      "metadata": {
        "colab": {
          "base_uri": "https://localhost:8080/"
        },
        "id": "545L8NKYJrjX",
        "outputId": "0715699c-3c23-4779-89fa-461d6be24e42"
      },
      "execution_count": 12,
      "outputs": [
        {
          "output_type": "stream",
          "name": "stdout",
          "text": [
            "Wed Oct 19 21:43:21 2022 Building and compiling search function\n"
          ]
        }
      ]
    },
    {
      "cell_type": "markdown",
      "source": [
        "Once you have determined parameters that work for your text, TMT can manufacture a BERTopic model. Note in this example we pass BERTopic the embeddings created earlier - no need to have BERTopic re-run them."
      ],
      "metadata": {
        "id": "TGkKFVBLUu4g"
      }
    },
    {
      "cell_type": "code",
      "source": [
        "bt1 = tmt2.getBERTopicModel(131, 24)\n",
        "bt1.fit_transform(tmt2.docs, tmt2.embeddings)\n",
        "bt1.get_topics_info()"
      ],
      "metadata": {
        "id": "TGBoE6tjM4Aa"
      },
      "execution_count": 15,
      "outputs": []
    }
  ]
}