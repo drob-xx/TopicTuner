{
 "cells": [
  {
   "cell_type": "markdown",
   "metadata": {
    "colab_type": "text",
    "id": "view-in-github"
   },
   "source": [
    "<a href=\"https://colab.research.google.com/github/drob-xx/TopicTuner/blob/main/TopicTunerDemo.ipynb\" target=\"_parent\"><img src=\"https://colab.research.google.com/assets/colab-badge.svg\" alt=\"Open In Colab\"/></a>"
   ]
  },
  {
   "cell_type": "code",
   "execution_count": null,
   "metadata": {
    "id": "NKv8LKMi50IG"
   },
   "outputs": [],
   "source": [
    "!pip install bertopic"
   ]
  },
  {
   "cell_type": "markdown",
   "metadata": {
    "id": "KVfylI4eJ8JC"
   },
   "source": [
    "Get TopicTuner from github"
   ]
  },
  {
   "cell_type": "code",
   "execution_count": null,
   "metadata": {
    "id": "6dKft2wB5O-O"
   },
   "outputs": [],
   "source": [
    "!git clone  https://github.com/drob-xx/TopicTuner.git"
   ]
  },
  {
   "cell_type": "markdown",
   "metadata": {
    "id": "283vx0Y3OP1G"
   },
   "source": [
    "Place TopicTuner on the path"
   ]
  },
  {
   "cell_type": "code",
   "execution_count": 3,
   "metadata": {
    "id": "Ck5Gns0P5utJ"
   },
   "outputs": [],
   "source": [
    "import sys\n",
    "sys.path.insert(0,'/content/TopicTuner')"
   ]
  },
  {
   "cell_type": "code",
   "execution_count": 4,
   "metadata": {
    "id": "ZCFRzJQH6QgS"
   },
   "outputs": [],
   "source": [
    "from topictuner import TopicModelTuner as TMT\n",
    "from sklearn.datasets import fetch_20newsgroups"
   ]
  },
  {
   "cell_type": "markdown",
   "metadata": {
    "id": "xJkdeaNzOUO2"
   },
   "source": [
    "Get 20NewsGroup data"
   ]
  },
  {
   "cell_type": "code",
   "execution_count": 5,
   "metadata": {
    "id": "1WtYPv-dAQLL"
   },
   "outputs": [],
   "source": [
    "docs = fetch_20newsgroups(subset='all',  remove=('headers', 'footers', 'quotes'))['data']"
   ]
  },
  {
   "cell_type": "markdown",
   "metadata": {
    "id": "gue1CuooRZk4"
   },
   "source": [
    "Create a TMT instance from scratch"
   ]
  },
  {
   "cell_type": "code",
   "execution_count": 6,
   "metadata": {
    "id": "Kh1cK1ab8tsG"
   },
   "outputs": [],
   "source": [
    "tmt = TMT()"
   ]
  },
  {
   "cell_type": "markdown",
   "metadata": {
    "id": "ly-61znFOnt3"
   },
   "source": [
    "Alternatively, you can create one from an existing BERTopic instance by calling \n",
    "\n",
    "newTMT = TMT.wrapBERTopicModel(<your BERTopic model>)"
   ]
  },
  {
   "cell_type": "markdown",
   "metadata": {
    "id": "N7SykexpTmbe"
   },
   "source": [
    "Create the embeddings."
   ]
  },
  {
   "cell_type": "code",
   "execution_count": 7,
   "metadata": {
    "id": "HJSVoGbPPWK3"
   },
   "outputs": [],
   "source": [
    "tmt.createEmbeddings(docs)"
   ]
  },
  {
   "cell_type": "markdown",
   "metadata": {
    "id": "jKBqKByeZ6-o"
   },
   "source": [
    "Then reduce them to 5 features ala BERTopic byt calling TMT.reduce()"
   ]
  },
  {
   "cell_type": "code",
   "execution_count": null,
   "metadata": {
    "id": "QJNNFHs9a5OD"
   },
   "outputs": [],
   "source": [
    "tmt.reduce()"
   ]
  },
  {
   "cell_type": "markdown",
   "metadata": {
    "id": "oZSqQkGcKZ72"
   },
   "source": [
    "Now we can explore different HDBSCAN settings for this instance of the UMAP reductions.\n",
    "\n",
    "TMT.randomSearch takes two arrays as arguments. By default it will execute 20 searches, randomly selecting the values passed in the first array as the min_cluster_size. The decimal float values in the second array will be randomly selected and then multiplied with the selected min_cluster_size to determine a sample_size.\n",
    "\n",
    "Note that the values for in each of these search examples below will likely have to be modified to give you optimized results for your specific UMAP reduction."
   ]
  },
  {
   "cell_type": "code",
   "execution_count": null,
   "metadata": {
    "id": "6TO9YAwp82tB"
   },
   "outputs": [],
   "source": [
    "lastRunResultsDF = tmt.randomSearch([*range(120,180)], [.1, .25, .5, .75, 1])"
   ]
  },
  {
   "cell_type": "markdown",
   "metadata": {
    "id": "mv6zXB53QP2h"
   },
   "source": [
    "Each time a TMT search is performed all the results are collected in the TMT.ResultsDF DataFrame. Each search returns a DataFrame with just the results of that search."
   ]
  },
  {
   "cell_type": "markdown",
   "metadata": {
    "id": "2IloGZqmQ99c"
   },
   "source": [
    "TMT.visualizeSearch produces a plotly parallel coordinates graph. You can pass it TMT.ResultsDF to get a view of all the searches, or pass it the results from a particular search."
   ]
  },
  {
   "cell_type": "code",
   "execution_count": null,
   "metadata": {
    "id": "ahgpX8TO5buZ"
   },
   "outputs": [],
   "source": [
    "tmt.visualizeSearch(lastRunResultsDF).show()"
   ]
  },
  {
   "cell_type": "markdown",
   "metadata": {
    "id": "TCgn_hn6RRuG"
   },
   "source": [
    "TMT.summarizeResults sorts a results table by number_of_cluster and selects the 'best' value for that number of clusters by choosing the one with the least uncategorized results."
   ]
  },
  {
   "cell_type": "code",
   "execution_count": null,
   "metadata": {
    "id": "rw6cBymVUCLO"
   },
   "outputs": [],
   "source": [
    "tmt.summarizeResults(lastRunResultsDF).sort_values(by=['number_uncategorized'])"
   ]
  },
  {
   "cell_type": "markdown",
   "metadata": {
    "id": "7lPYFE7HRmJo"
   },
   "source": [
    "TMT.gridSearch() is suitable once you have narrowed down the ranges. It will search ALL the min_cluster_size values passed with each of the percentage values being evaluated to the given sample_size value. In the example below 15 runs will be performed - five different sample_sizes for each of the three min_cluster_size values - 131, 132, 133."
   ]
  },
  {
   "cell_type": "code",
   "execution_count": 14,
   "metadata": {
    "colab": {
     "base_uri": "https://localhost:8080/",
     "height": 49,
     "referenced_widgets": [
      "e506aff34857410da0f0e609f2c9c528",
      "ba50f43634de4eef8a72830ee11f174f",
      "db68bd28f61240beb6c2e2f978e46f2e",
      "cea46e5161854a5c92abdcd0cf68730e",
      "b9d7c96aab534f68bf70e90ccefdf896",
      "8b47fa78e9744e7595816a7b42960141",
      "719463e5b90d45fc960b7fb16491704b",
      "d7201020246541a5bb177a56b7405f61",
      "7be3cacd27eb44bd8c6dc9648a2b71c6",
      "3a5058b5b82945db88110da211b40a60",
      "73e8d161127643a4b0666758a2f9215f"
     ]
    },
    "id": "eDQ-SV5ASN_F",
    "outputId": "e748fb9e-599c-4c54-811e-3d3166b0fef4"
   },
   "outputs": [
    {
     "data": {
      "application/vnd.jupyter.widget-view+json": {
       "model_id": "e506aff34857410da0f0e609f2c9c528",
       "version_major": 2,
       "version_minor": 0
      },
      "text/plain": [
       "  0%|          | 0/15 [00:00<?, ?it/s]"
      ]
     },
     "metadata": {},
     "output_type": "display_data"
    }
   ],
   "source": [
    "lastRunResultsDF = tmt.gridSearch([*range(131,134)], [.1, .25, .5, .75, 1])"
   ]
  },
  {
   "cell_type": "markdown",
   "metadata": {
    "id": "BLPfbUUpScxd"
   },
   "source": [
    "Once you have narrowed down the values of interest further you may want to run a more thorough search to do this. TMT.simpleSearch takes two arrays as arguments. The first are the min_cluster_sizes and the second are the sample_sizes. You might prepare these lists like this:"
   ]
  },
  {
   "cell_type": "code",
   "execution_count": 15,
   "metadata": {
    "id": "czxG9Ps7V0lJ"
   },
   "outputs": [],
   "source": [
    "csizes = []\n",
    "ssizes = []\n",
    "for csize in range(131,132) :\n",
    "  for ssize in range(1, csize+1) :\n",
    "    csizes.append(csize)\n",
    "    ssizes.append(ssize)"
   ]
  },
  {
   "cell_type": "markdown",
   "metadata": {
    "id": "RLgZ1cR-TF0N"
   },
   "source": [
    "In the above example csizes is a list of 131 values of 131. ssizes is 131 values of 1 to 131. This runs ALL possible sample sizes (131) for the min_cluster_size of 131. The first run will be min_cluster_size=131, sample_size=1, the second min_cluster_size=131, sample_size=2 etc."
   ]
  },
  {
   "cell_type": "code",
   "execution_count": null,
   "metadata": {
    "id": "YKRFHMFbWu9I"
   },
   "outputs": [],
   "source": [
    "lastRunResultsDF = tmt.simpleSearch(csizes, ssizes)"
   ]
  },
  {
   "cell_type": "markdown",
   "metadata": {
    "id": "Yn4hf6EjMdal"
   },
   "source": [
    "TMT can generate a scatterplot of your embeddings overlayed with the clustering of a given set of parameters. This can assist in deciding how many clusters to select for your model.\n",
    "\n",
    "To accomplish this, first you must create a 2D reduction of the embeddings suitable for a 2D scatterplot."
   ]
  },
  {
   "cell_type": "code",
   "execution_count": null,
   "metadata": {
    "id": "Vphs9OJ6EPUM"
   },
   "outputs": [],
   "source": [
    "tmt.createVizReduction()"
   ]
  },
  {
   "cell_type": "markdown",
   "metadata": {
    "id": "x4-uDiVOM-Vy"
   },
   "source": [
    "If TMT has access to the docs it will use them to add document text to the scatterplot."
   ]
  },
  {
   "cell_type": "code",
   "execution_count": null,
   "metadata": {
    "id": "pdZdlcBpDDXm"
   },
   "outputs": [],
   "source": [
    "tmt.visualizeEmbeddings(131,78).show()"
   ]
  },
  {
   "cell_type": "markdown",
   "metadata": {
    "id": "XMTaV7PgUf5g"
   },
   "source": [
    "You can save your TMT model with TMT.save()"
   ]
  },
  {
   "cell_type": "code",
   "execution_count": null,
   "metadata": {
    "id": "mKzLRAmaGhm0"
   },
   "outputs": [],
   "source": [
    "tmt.save('temp')"
   ]
  },
  {
   "cell_type": "markdown",
   "metadata": {
    "id": "YrU1cZQ2Un5I"
   },
   "source": [
    "And restore it using TMT.load()"
   ]
  },
  {
   "cell_type": "code",
   "execution_count": null,
   "metadata": {
    "id": "545L8NKYJrjX"
   },
   "outputs": [],
   "source": [
    "tmt2 = TMT.load('temp')"
   ]
  },
  {
   "cell_type": "markdown",
   "metadata": {
    "id": "TGkKFVBLUu4g"
   },
   "source": [
    "Once you have determined parameters that work for your text, TMT can manufacture a BERTopic model. Note in this example we pass BERTopic the embeddings created earlier - no need to have BERTopic re-run them."
   ]
  },
  {
   "cell_type": "code",
   "execution_count": null,
   "metadata": {
    "id": "TGBoE6tjM4Aa"
   },
   "outputs": [],
   "source": [
    "bt1 = tmt2.getBERTopicModel(131, 24)\n",
    "bt1.fit_transform(tmt2.docs, tmt2.embeddings)\n",
    "bt1.get_topics_info()"
   ]
  }
 ],
 "metadata": {
  "accelerator": "GPU",
  "colab": {
   "authorship_tag": "ABX9TyMprTuqifSG8LJtv/v6A+Fo",
   "collapsed_sections": [],
   "include_colab_link": true,
   "mount_file_id": "1dc0mtEfxm5l1AIyI5kXNoJf6iVzkQCh8",
   "provenance": []
  },
  "gpuClass": "standard",
  "kernelspec": {
   "display_name": "Python 3 (ipykernel)",
   "language": "python",
   "name": "python3"
  },
  "language_info": {
   "codemirror_mode": {
    "name": "ipython",
    "version": 3
   },
   "file_extension": ".py",
   "mimetype": "text/x-python",
   "name": "python",
   "nbconvert_exporter": "python",
   "pygments_lexer": "ipython3",
   "version": "3.9.15"
  },
  "widgets": {
   "application/vnd.jupyter.widget-state+json": {
    "3a5058b5b82945db88110da211b40a60": {
     "model_module": "@jupyter-widgets/base",
     "model_module_version": "1.2.0",
     "model_name": "LayoutModel",
     "state": {
      "_model_module": "@jupyter-widgets/base",
      "_model_module_version": "1.2.0",
      "_model_name": "LayoutModel",
      "_view_count": null,
      "_view_module": "@jupyter-widgets/base",
      "_view_module_version": "1.2.0",
      "_view_name": "LayoutView",
      "align_content": null,
      "align_items": null,
      "align_self": null,
      "border": null,
      "bottom": null,
      "display": null,
      "flex": null,
      "flex_flow": null,
      "grid_area": null,
      "grid_auto_columns": null,
      "grid_auto_flow": null,
      "grid_auto_rows": null,
      "grid_column": null,
      "grid_gap": null,
      "grid_row": null,
      "grid_template_areas": null,
      "grid_template_columns": null,
      "grid_template_rows": null,
      "height": null,
      "justify_content": null,
      "justify_items": null,
      "left": null,
      "margin": null,
      "max_height": null,
      "max_width": null,
      "min_height": null,
      "min_width": null,
      "object_fit": null,
      "object_position": null,
      "order": null,
      "overflow": null,
      "overflow_x": null,
      "overflow_y": null,
      "padding": null,
      "right": null,
      "top": null,
      "visibility": null,
      "width": null
     }
    },
    "719463e5b90d45fc960b7fb16491704b": {
     "model_module": "@jupyter-widgets/controls",
     "model_module_version": "1.5.0",
     "model_name": "DescriptionStyleModel",
     "state": {
      "_model_module": "@jupyter-widgets/controls",
      "_model_module_version": "1.5.0",
      "_model_name": "DescriptionStyleModel",
      "_view_count": null,
      "_view_module": "@jupyter-widgets/base",
      "_view_module_version": "1.2.0",
      "_view_name": "StyleView",
      "description_width": ""
     }
    },
    "73e8d161127643a4b0666758a2f9215f": {
     "model_module": "@jupyter-widgets/controls",
     "model_module_version": "1.5.0",
     "model_name": "DescriptionStyleModel",
     "state": {
      "_model_module": "@jupyter-widgets/controls",
      "_model_module_version": "1.5.0",
      "_model_name": "DescriptionStyleModel",
      "_view_count": null,
      "_view_module": "@jupyter-widgets/base",
      "_view_module_version": "1.2.0",
      "_view_name": "StyleView",
      "description_width": ""
     }
    },
    "7be3cacd27eb44bd8c6dc9648a2b71c6": {
     "model_module": "@jupyter-widgets/controls",
     "model_module_version": "1.5.0",
     "model_name": "ProgressStyleModel",
     "state": {
      "_model_module": "@jupyter-widgets/controls",
      "_model_module_version": "1.5.0",
      "_model_name": "ProgressStyleModel",
      "_view_count": null,
      "_view_module": "@jupyter-widgets/base",
      "_view_module_version": "1.2.0",
      "_view_name": "StyleView",
      "bar_color": null,
      "description_width": ""
     }
    },
    "8b47fa78e9744e7595816a7b42960141": {
     "model_module": "@jupyter-widgets/base",
     "model_module_version": "1.2.0",
     "model_name": "LayoutModel",
     "state": {
      "_model_module": "@jupyter-widgets/base",
      "_model_module_version": "1.2.0",
      "_model_name": "LayoutModel",
      "_view_count": null,
      "_view_module": "@jupyter-widgets/base",
      "_view_module_version": "1.2.0",
      "_view_name": "LayoutView",
      "align_content": null,
      "align_items": null,
      "align_self": null,
      "border": null,
      "bottom": null,
      "display": null,
      "flex": null,
      "flex_flow": null,
      "grid_area": null,
      "grid_auto_columns": null,
      "grid_auto_flow": null,
      "grid_auto_rows": null,
      "grid_column": null,
      "grid_gap": null,
      "grid_row": null,
      "grid_template_areas": null,
      "grid_template_columns": null,
      "grid_template_rows": null,
      "height": null,
      "justify_content": null,
      "justify_items": null,
      "left": null,
      "margin": null,
      "max_height": null,
      "max_width": null,
      "min_height": null,
      "min_width": null,
      "object_fit": null,
      "object_position": null,
      "order": null,
      "overflow": null,
      "overflow_x": null,
      "overflow_y": null,
      "padding": null,
      "right": null,
      "top": null,
      "visibility": null,
      "width": null
     }
    },
    "b9d7c96aab534f68bf70e90ccefdf896": {
     "model_module": "@jupyter-widgets/base",
     "model_module_version": "1.2.0",
     "model_name": "LayoutModel",
     "state": {
      "_model_module": "@jupyter-widgets/base",
      "_model_module_version": "1.2.0",
      "_model_name": "LayoutModel",
      "_view_count": null,
      "_view_module": "@jupyter-widgets/base",
      "_view_module_version": "1.2.0",
      "_view_name": "LayoutView",
      "align_content": null,
      "align_items": null,
      "align_self": null,
      "border": null,
      "bottom": null,
      "display": null,
      "flex": null,
      "flex_flow": null,
      "grid_area": null,
      "grid_auto_columns": null,
      "grid_auto_flow": null,
      "grid_auto_rows": null,
      "grid_column": null,
      "grid_gap": null,
      "grid_row": null,
      "grid_template_areas": null,
      "grid_template_columns": null,
      "grid_template_rows": null,
      "height": null,
      "justify_content": null,
      "justify_items": null,
      "left": null,
      "margin": null,
      "max_height": null,
      "max_width": null,
      "min_height": null,
      "min_width": null,
      "object_fit": null,
      "object_position": null,
      "order": null,
      "overflow": null,
      "overflow_x": null,
      "overflow_y": null,
      "padding": null,
      "right": null,
      "top": null,
      "visibility": null,
      "width": null
     }
    },
    "ba50f43634de4eef8a72830ee11f174f": {
     "model_module": "@jupyter-widgets/controls",
     "model_module_version": "1.5.0",
     "model_name": "HTMLModel",
     "state": {
      "_dom_classes": [],
      "_model_module": "@jupyter-widgets/controls",
      "_model_module_version": "1.5.0",
      "_model_name": "HTMLModel",
      "_view_count": null,
      "_view_module": "@jupyter-widgets/controls",
      "_view_module_version": "1.5.0",
      "_view_name": "HTMLView",
      "description": "",
      "description_tooltip": null,
      "layout": "IPY_MODEL_8b47fa78e9744e7595816a7b42960141",
      "placeholder": "​",
      "style": "IPY_MODEL_719463e5b90d45fc960b7fb16491704b",
      "value": "100%"
     }
    },
    "cea46e5161854a5c92abdcd0cf68730e": {
     "model_module": "@jupyter-widgets/controls",
     "model_module_version": "1.5.0",
     "model_name": "HTMLModel",
     "state": {
      "_dom_classes": [],
      "_model_module": "@jupyter-widgets/controls",
      "_model_module_version": "1.5.0",
      "_model_name": "HTMLModel",
      "_view_count": null,
      "_view_module": "@jupyter-widgets/controls",
      "_view_module_version": "1.5.0",
      "_view_name": "HTMLView",
      "description": "",
      "description_tooltip": null,
      "layout": "IPY_MODEL_3a5058b5b82945db88110da211b40a60",
      "placeholder": "​",
      "style": "IPY_MODEL_73e8d161127643a4b0666758a2f9215f",
      "value": " 15/15 [00:19&lt;00:00,  1.52s/it]"
     }
    },
    "d7201020246541a5bb177a56b7405f61": {
     "model_module": "@jupyter-widgets/base",
     "model_module_version": "1.2.0",
     "model_name": "LayoutModel",
     "state": {
      "_model_module": "@jupyter-widgets/base",
      "_model_module_version": "1.2.0",
      "_model_name": "LayoutModel",
      "_view_count": null,
      "_view_module": "@jupyter-widgets/base",
      "_view_module_version": "1.2.0",
      "_view_name": "LayoutView",
      "align_content": null,
      "align_items": null,
      "align_self": null,
      "border": null,
      "bottom": null,
      "display": null,
      "flex": null,
      "flex_flow": null,
      "grid_area": null,
      "grid_auto_columns": null,
      "grid_auto_flow": null,
      "grid_auto_rows": null,
      "grid_column": null,
      "grid_gap": null,
      "grid_row": null,
      "grid_template_areas": null,
      "grid_template_columns": null,
      "grid_template_rows": null,
      "height": null,
      "justify_content": null,
      "justify_items": null,
      "left": null,
      "margin": null,
      "max_height": null,
      "max_width": null,
      "min_height": null,
      "min_width": null,
      "object_fit": null,
      "object_position": null,
      "order": null,
      "overflow": null,
      "overflow_x": null,
      "overflow_y": null,
      "padding": null,
      "right": null,
      "top": null,
      "visibility": null,
      "width": null
     }
    },
    "db68bd28f61240beb6c2e2f978e46f2e": {
     "model_module": "@jupyter-widgets/controls",
     "model_module_version": "1.5.0",
     "model_name": "FloatProgressModel",
     "state": {
      "_dom_classes": [],
      "_model_module": "@jupyter-widgets/controls",
      "_model_module_version": "1.5.0",
      "_model_name": "FloatProgressModel",
      "_view_count": null,
      "_view_module": "@jupyter-widgets/controls",
      "_view_module_version": "1.5.0",
      "_view_name": "ProgressView",
      "bar_style": "success",
      "description": "",
      "description_tooltip": null,
      "layout": "IPY_MODEL_d7201020246541a5bb177a56b7405f61",
      "max": 15,
      "min": 0,
      "orientation": "horizontal",
      "style": "IPY_MODEL_7be3cacd27eb44bd8c6dc9648a2b71c6",
      "value": 15
     }
    },
    "e506aff34857410da0f0e609f2c9c528": {
     "model_module": "@jupyter-widgets/controls",
     "model_module_version": "1.5.0",
     "model_name": "HBoxModel",
     "state": {
      "_dom_classes": [],
      "_model_module": "@jupyter-widgets/controls",
      "_model_module_version": "1.5.0",
      "_model_name": "HBoxModel",
      "_view_count": null,
      "_view_module": "@jupyter-widgets/controls",
      "_view_module_version": "1.5.0",
      "_view_name": "HBoxView",
      "box_style": "",
      "children": [
       "IPY_MODEL_ba50f43634de4eef8a72830ee11f174f",
       "IPY_MODEL_db68bd28f61240beb6c2e2f978e46f2e",
       "IPY_MODEL_cea46e5161854a5c92abdcd0cf68730e"
      ],
      "layout": "IPY_MODEL_b9d7c96aab534f68bf70e90ccefdf896"
     }
    }
   }
  }
 },
 "nbformat": 4,
 "nbformat_minor": 4
}
